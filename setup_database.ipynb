{
 "cells": [
  {
   "cell_type": "code",
   "execution_count": 92,
   "metadata": {},
   "outputs": [],
   "source": [
    "key_file = open(\"api_key.txt\", 'r')\n",
    "api_key = key_file.read()\n",
    "key_file.close()"
   ]
  },
  {
   "cell_type": "code",
   "execution_count": 94,
   "metadata": {},
   "outputs": [],
   "source": [
    "config = {\n",
    "    'auth_plugin': 'mysql_native_password',\n",
    "    'user': '',\n",
    "    'password': '',\n",
    "    'host': 'localhost',\n",
    "    'ssl_ca': 'C:\\certificates\\ca.pem',\n",
    "    'ssl_cert': 'C:\\certificates\\client-cert.pem',\n",
    "    'ssl_key': 'C:\\certificates\\client-key.pem',\n",
    "}\n",
    "\n",
    "config_file = open(\"config_file.txt\", 'r')\n",
    "db_user = config_file.readline()\n",
    "db_pass = config_file.readline()\n",
    "config_file.close()\n",
    "\n",
    "config['user'] = db_user.rstrip()\n",
    "config['password'] = db_pass.rstrip()"
   ]
  },
  {
   "cell_type": "code",
   "execution_count": 95,
   "metadata": {},
   "outputs": [],
   "source": [
    "import dota2api\n",
    "api = dota2api.Initialise(api_key)\n",
    "import json"
   ]
  },
  {
   "cell_type": "code",
   "execution_count": 96,
   "metadata": {},
   "outputs": [],
   "source": [
    "starting_match_id = 3867274477"
   ]
  },
  {
   "cell_type": "code",
   "execution_count": 97,
   "metadata": {},
   "outputs": [],
   "source": [
    "import mysql.connector\n",
    "cnx = mysql.connector.connect(**config)\n",
    "cursor = cnx.cursor()"
   ]
  },
  {
   "cell_type": "code",
   "execution_count": 6,
   "metadata": {},
   "outputs": [],
   "source": [
    "query = (\"CREATE DATABASE dota7\")\n",
    "cursor.execute(query)"
   ]
  },
  {
   "cell_type": "code",
   "execution_count": 7,
   "metadata": {},
   "outputs": [],
   "source": [
    "query = (\"USE dota7\")\n",
    "cursor.execute(query)"
   ]
  },
  {
   "cell_type": "code",
   "execution_count": 9,
   "metadata": {},
   "outputs": [],
   "source": [
    "# Set up heroes table\n",
    "query = (\"\"\"\n",
    "CREATE TABLE `heroes` (\n",
    "  `id` int(10) unsigned NOT NULL,\n",
    "  `localized_name` varchar(50) DEFAULT NULL,\n",
    "  `name` varchar(50) DEFAULT NULL,\n",
    "  `url_small_portrait` varchar(255) DEFAULT NULL,\n",
    "  `matches_played` int(10) unsigned DEFAULT NULL,\n",
    "  `win_rate` float(5,4) DEFAULT NULL,\n",
    "  PRIMARY KEY (`id`)\n",
    ")\"\"\")\n",
    "cursor.execute(query)\n",
    "\n",
    "# Populate heroes table\n",
    "heroes = api.get_heroes()\n",
    "hero_list = heroes['heroes']\n",
    "hero_stmt = \"\"\"INSERT INTO heroes (id, localized_name, name, url_small_portrait) VALUES\n",
    "            ( %s, %s, %s, %s );\"\"\"\n",
    "for h in hero_list:\n",
    "    data = (h['id'],h['localized_name'],h['name'],h['url_small_portrait'])\n",
    "    cursor.execute(hero_stmt, data)"
   ]
  },
  {
   "cell_type": "code",
   "execution_count": 25,
   "metadata": {},
   "outputs": [],
   "source": [
    "# Set up matches table\n",
    "query = (\"\"\"\n",
    "CREATE TABLE `matches` (\n",
    "  `match_id` int(10) unsigned NOT NULL,\n",
    "  `match_seq_num` int(10) unsigned NOT NULL,\n",
    "  `start_time` int(10) unsigned NOT NULL,\n",
    "  `duration` int(10) unsigned NOT NULL,\n",
    "  `radiant_win` tinyint(1) NOT NULL,\n",
    "  PRIMARY KEY (`match_id`)\n",
    ")\"\"\")\n",
    "cursor.execute(query)"
   ]
  },
  {
   "cell_type": "code",
   "execution_count": null,
   "metadata": {},
   "outputs": [],
   "source": [
    "# Set up match_hero table\n",
    "query = (\"\"\"\n",
    "CREATE TABLE `match_hero` (\n",
    "  `match_id` int(10) unsigned NOT NULL,\n",
    "  `player_slot` int(10) unsigned NOT NULL,\n",
    "  `hero_id` int(10) unsigned NOT NULL,\n",
    "  `hero_name` varchar(50) DEFAULT NULL,\n",
    "  PRIMARY KEY (`match_id`,`player_slot`)\n",
    ")\"\"\")\n",
    "cursor.execute(query)"
   ]
  },
  {
   "cell_type": "code",
   "execution_count": 71,
   "metadata": {},
   "outputs": [],
   "source": [
    "# Set up hero_matchups table\n",
    "query = (\"\"\"\n",
    "CREATE TABLE `hero_matchups` (\n",
    "  `hero_id` int(10) unsigned NOT NULL,\n",
    "  `opponent_id` int(10) unsigned NOT NULL,\n",
    "  `win_rate` float(5,4) DEFAULT NULL,\n",
    "  `matches_played` int(11) DEFAULT NULL,\n",
    "  PRIMARY KEY (`hero_id`,`opponent_id`)\n",
    ")\"\"\")\n",
    "cursor.execute(query)"
   ]
  },
  {
   "cell_type": "code",
   "execution_count": 72,
   "metadata": {},
   "outputs": [],
   "source": [
    "# Add a single match to the match and match_hero tables using match_id\n",
    "def add_match(match_id):\n",
    "    match = api.get_match_details(match_id=match_id)\n",
    "    exist_stmt = \"\"\"SELECT * FROM matches WHERE match_id=%s\"\"\"\n",
    "    data = (match['match_id'],)\n",
    "    cursor.execute(exist_stmt, data)\n",
    "    result = cursor.fetchone();\n",
    "\n",
    "    match_stmt = \"\"\"INSERT INTO matches (match_id, match_seq_num, start_time, duration, radiant_win) VALUES\n",
    "                ( %s, %s, %s, %s, %s );\"\"\"\n",
    "    mh_stmt = \"\"\"INSERT INTO match_hero (match_id, player_slot, hero_id, hero_name) VALUES\n",
    "                    ( %s, %s, %s, %s );\"\"\"\n",
    "\n",
    "    if result:\n",
    "        print(\"Match already exists in table\")\n",
    "    else:\n",
    "        print(\"Adding match to table\")\n",
    "        data = (match['match_id'], match['match_seq_num'], match['start_time'], match['duration'], match['radiant_win'])\n",
    "        cursor.execute(match_stmt, data)\n",
    "\n",
    "        for h in match['players']:\n",
    "            data = (match['match_id'], h['player_slot'], h['hero_id'], h['hero_name'])\n",
    "            cursor.execute(mh_stmt, data)\n",
    "    cnx.commit()"
   ]
  },
  {
   "cell_type": "code",
   "execution_count": 30,
   "metadata": {},
   "outputs": [
    {
     "name": "stdout",
     "output_type": "stream",
     "text": [
      "Match already exists in table\n"
     ]
    }
   ],
   "source": [
    "add_match(starting_match_id)"
   ]
  },
  {
   "cell_type": "code",
   "execution_count": 32,
   "metadata": {},
   "outputs": [],
   "source": [
    "# Get the match_seq_num of the oldest match\n",
    "def get_oldest_seq():\n",
    "    oldest_stmt = \"\"\"SELECT match_seq_num FROM matches ORDER BY match_seq_num ASC LIMIT 1\"\"\"\n",
    "    cursor.execute(oldest_stmt)\n",
    "    return cursor.fetchone()[0];"
   ]
  },
  {
   "cell_type": "code",
   "execution_count": 66,
   "metadata": {},
   "outputs": [],
   "source": [
    "starting_match_seq = get_oldest_seq()"
   ]
  },
  {
   "cell_type": "code",
   "execution_count": 73,
   "metadata": {},
   "outputs": [],
   "source": [
    "# Get a batch of matches beggining at starting_seq number and fetching matches before\n",
    "def get_batch_matches(batch_size, starting_seq_num):\n",
    "    num_matches = 0\n",
    "    api_calls = 0\n",
    "    \n",
    "    duplicate_count = 0\n",
    "    missing_seq_nums = 0\n",
    "    unsuitable_match = 0\n",
    "\n",
    "    exist_stmt = \"\"\"SELECT * FROM matches WHERE match_id=%s\"\"\"\n",
    "    matches_stmt = \"\"\"INSERT INTO matches (match_id, match_seq_num, start_time, duration, radiant_win) VALUES\n",
    "                    ( %s, %s, %s, %s, %s );\"\"\"\n",
    "    match_hero_stmt = \"\"\"INSERT INTO match_hero (match_id, player_slot, hero_id) VALUES\n",
    "                        ( %s, %s, %s );\"\"\"\n",
    "\n",
    "    while num_matches < batch_size:\n",
    "\n",
    "        try:\n",
    "            api_calls = api_calls + 1\n",
    "            match_history = api.get_match_history_by_seq_num(start_at_match_seq_num=starting_seq_num)\n",
    "\n",
    "            for m in match_history['matches']:\n",
    "                m = dota2api.src.parse.hero_id(m)\n",
    "                \n",
    "                if m['lobby_type'] != 0 or len(match['players']) < 10 or match['duration'] < 600:\n",
    "                    unsuitable_match = unsuitable_match + 1\n",
    "                else:\n",
    "                    data = (m['match_id'],)\n",
    "                    cursor.execute(exist_stmt, data)\n",
    "                    result = cursor.fetchone();\n",
    "\n",
    "                    if result:\n",
    "                        duplicate_count = duplicate_count + 1\n",
    "                    else:\n",
    "                        num_matches = num_matches + 1\n",
    "                        data = (m['match_id'], m['match_seq_num'], m['start_time'], m['duration'], m['radiant_win'])\n",
    "                        cursor.execute(matches_stmt, data)\n",
    "\n",
    "                        for h in m['players']:\n",
    "                            data = (m['match_id'], h['player_slot'], h['hero_id'])\n",
    "                            cursor.execute(match_hero_stmt, data)\n",
    "        except json.JSONDecodeError:\n",
    "            missing_seq_nums = missing_seq_nums + 1\n",
    "\n",
    "        starting_seq_num = starting_seq_num - 200\n",
    "        \n",
    "    cnx.commit()\n",
    "    print(\"Duplicates: \" + str(duplicate_count))\n",
    "    print(\"Missing sequence numbers: \" + str(missing_seq_nums))\n",
    "    print(\"Unsuitable matches: \" + str(unsuitable_match))\n",
    "    print(\"Fetched \" + str(num_matches) + \" suitable matches in \" + str(api_calls) + \" API calls.\")"
   ]
  },
  {
   "cell_type": "code",
   "execution_count": 68,
   "metadata": {},
   "outputs": [
    {
     "name": "stdout",
     "output_type": "stream",
     "text": [
      "Duplicates: 50\n",
      "Missing sequence numbers: 0\n",
      "Unsuitable matches: 334\n",
      "Fetched 216 suitable matches in 6 API calls.\n"
     ]
    }
   ],
   "source": [
    "get_batch_matches(200,starting_match_seq)"
   ]
  },
  {
   "cell_type": "code",
   "execution_count": 98,
   "metadata": {},
   "outputs": [],
   "source": [
    "cnx.commit()\n",
    "cnx.close()"
   ]
  },
  {
   "cell_type": "code",
   "execution_count": null,
   "metadata": {},
   "outputs": [],
   "source": []
  }
 ],
 "metadata": {
  "kernelspec": {
   "display_name": "Python 3",
   "language": "python",
   "name": "python3"
  },
  "language_info": {
   "codemirror_mode": {
    "name": "ipython",
    "version": 3
   },
   "file_extension": ".py",
   "mimetype": "text/x-python",
   "name": "python",
   "nbconvert_exporter": "python",
   "pygments_lexer": "ipython3",
   "version": "3.5.4"
  }
 },
 "nbformat": 4,
 "nbformat_minor": 1
}
