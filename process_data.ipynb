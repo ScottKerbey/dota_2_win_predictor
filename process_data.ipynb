{
 "cells": [
  {
   "cell_type": "markdown",
   "metadata": {
    "collapsed": true
   },
   "source": [
    ""
   ]
  },
  {
   "cell_type": "code",
   "execution_count": null,
   "metadata": {
    "collapsed": true
   },
   "outputs": [],
   "source": [
    "def process_heroes():\n",
    "    query = (\"SELECT * FROM heroes\")\n",
    "    cursor.execute(query)\n",
    "    global hero_win_rates\n",
    "    hero_win_rates = []\n",
    "    h_columns = cursor.column_names\n",
    "    heroes = cursor.fetchall()\n",
    "    for h in heroes:\n",
    "        h = dict(zip(h_columns, h))\n",
    "        hero_win_rates.append({'id': h['id'], 'name': h['localized_name'], 'matches_won': 0.0, 'matches_played': 0.0})\n",
    "    match_hero_stmt = (\"SELECT * FROM match_hero WHERE hero_id=%s\")\n",
    "    for h in hero_win_rates:\n",
    "        h['hero_matchup'] = []\n",
    "        for he in heroes:\n",
    "            he = dict(zip(h_columns, he))\n",
    "            h['hero_matchup'].append({'id': he['id'], 'name': he['localized_name'], 'matches_won_against': 0.0, 'matches_played_against': 0.0})\n",
    "        data = (h['id'],)\n",
    "        cursor.execute(match_hero_stmt,data)\n",
    "        mh_columns = cursor.column_names\n",
    "        for mh in cursor.fetchall():\n",
    "            mh = dict(zip(mh_columns, mh))\n",
    "\n",
    "            matches_stmt = (\"SELECT * FROM matches WHERE match_id=%s\")\n",
    "            data = (mh['match_id'],)\n",
    "            cursor.execute(matches_stmt,data)\n",
    "\n",
    "            mat = dict(zip(cursor.column_names, cursor.fetchone()))\n",
    "            if ((mh['player_slot'] < 128 and mat['radiant_win']) or (mh['player_slot'] >= 128 and not mat['radiant_win'])):\n",
    "                h['matches_won'] = h['matches_won'] + 1\n",
    "            h['matches_played'] = h['matches_played'] + 1\n",
    "\n",
    "            match_hero_stmt2 = (\"SELECT * FROM match_hero WHERE match_id=%s AND NOT hero_id=%s\")\n",
    "            data = (mh['match_id'],mh['hero_id'])\n",
    "            cursor.execute(match_hero_stmt2,data)\n",
    "\n",
    "            for mh2 in cursor.fetchall():\n",
    "                mh2 = dict(zip(mh_columns, mh2))\n",
    "                pl = next((pl for pl in h['hero_matchup'] if pl['id']==mh2['hero_id']), None)\n",
    "                if(pl):\n",
    "                    if(mh['player_slot']<128 and mh2['player_slot']>=128 or mh['player_slot']>=128 and mh2['player_slot']<128):\n",
    "                        pl['matches_played_against'] += 1\n",
    "                        if(mh['player_slot']<128 and mat['radiant_win'] or mh['player_slot']>=128 and not mat['radiant_win']):\n",
    "                            pl['matches_won_against'] += 1\n",
    "    for h in hero_win_rates:\n",
    "        h['win_rate'] = None if (h['matches_played']==0) else h['matches_won']/h['matches_played']\n",
    "        save_wr_stmt = (\"\"\"UPDATE heroes\n",
    "                            SET win_rate = %s,\n",
    "                                matches_played = %s\n",
    "                            WHERE id = %s\"\"\")\n",
    "        data = (None if (h['win_rate']==None) else h['win_rate'], h['matches_played'],h['id'])\n",
    "        cursor.execute(save_wr_stmt,data)\n",
    "        for pl in h['hero_matchup']:\n",
    "            pl['win_rate'] = None if (pl['matches_played_against']==0) else pl['matches_won_against']/pl['matches_played_against']\n",
    "            save_mwr_stmt = (\"\"\"UPDATE hero_matchups\n",
    "                                SET win_rate = %s,\n",
    "                                    matches_played = %s\n",
    "                                WHERE hero_id = %s AND opponent_id = %s\"\"\")\n",
    "            data = (None if not pl['win_rate'] else pl['win_rate'], pl['matches_played_against'],h['id'],pl['id'])\n",
    "            cursor.execute(save_mwr_stmt,data)\n",
    "        print(\"id: {}, name: {}, wins: {}, total: {}, win rate: {}\".format(h['id'],\n",
    "                                                                           h['name'],\n",
    "                                                                           h['matches_won'],\n",
    "                                                                           h['matches_played'],\n",
    "                                                                           \"-\" if (h['win_rate']==None) else '%.2f' % (100*h['win_rate'])+\"%\"\n",
    "                                                                           ))"
   ]
  },
  {
   "cell_type": "code",
   "execution_count": null,
   "metadata": {},
   "outputs": [],
   "source": [
    "def generate_hero_matchups():\n",
    "    query = (\"DELETE FROM hero_matchups\")\n",
    "    cursor.execute(query)\n",
    "    query = (\"SELECT id FROM heroes\")\n",
    "    cursor.execute(query)\n",
    "    create_mwr_stmt = (\"\"\"INSERT INTO hero_matchups (hero_id, opponent_id) VALUES\n",
    "                                    (%s, %s)\"\"\")\n",
    "    hid_list = cursor.fetchall()\n",
    "    for hid1 in hid_list:\n",
    "        hid1 = hid1[0]  # hero_id\n",
    "        for hid2 in hid_list:\n",
    "            hid2 = hid2[0]  # hero_id\n",
    "            if hid1 != hid2:\n",
    "                data = (hid1, hid2)\n",
    "                cursor.execute(create_mwr_stmt, data)"
   ]
  },
  {
   "cell_type": "code",
   "execution_count": null,
   "metadata": {},
   "outputs": [],
   "source": [
    "generate_hero_matchups()\n",
    "process_heroes()"
   ]
  },
  {
   "cell_type": "code",
   "execution_count": null,
   "metadata": {},
   "outputs": [],
   "source": [
    "def suggest_1():\n",
    "    global hero_win_rates\n",
    "    top_heroes = []\n",
    "    max_top = 5\n",
    "    sorted_hero_win_rates = sorted(hero_win_rates, key=lambda k: (-1,-1) if (k['win_rate']==None) else (k['win_rate'],k['matches_played']), reverse=True)\n",
    "    temp_wr = sorted_hero_win_rates[0]['win_rate']\n",
    "    i = 0\n",
    "    while i < max_top or sorted_hero_win_rates[i]['win_rate'] == temp_wr:\n",
    "        temp_wr = sorted_hero_win_rates[i]['win_rate']\n",
    "        add_hero = {'id': sorted_hero_win_rates[i]['id'],\n",
    "                    'matches_played': sorted_hero_win_rates[i]['matches_played'],\n",
    "                    'matches_won': sorted_hero_win_rates[i]['matches_won'],\n",
    "                    'name': sorted_hero_win_rates[i]['name'],\n",
    "                    'win_rate': sorted_hero_win_rates[i]['win_rate']}\n",
    "        top_heroes.append(add_hero)\n",
    "        print(add_hero)\n",
    "        i = i + 1\n",
    "    return top_heroes"
   ]
  },
  {
   "cell_type": "code",
   "execution_count": null,
   "metadata": {},
   "outputs": [],
   "source": [
    "def suggest_2(hero_id1):\n",
    "    global hero_win_rates\n",
    "    top_heroes = []\n",
    "    max_top = 5\n",
    "    h = next((h for h in hero_win_rates if h['id']==hero_id1), None)\n",
    "    print({'id': h['id'],\n",
    "           'matches_played': h['matches_played'],\n",
    "           'matches_won': h['matches_won'],\n",
    "           'name': h['name'],\n",
    "           'win_rate': h['win_rate']})\n",
    "    print(\"suggestions:\")\n",
    "    #     sorted_hero_matchups = sorted(h['hero_matchup'], key=lambda k: (2,2) if (k['win_rate']==None) else (k['win_rate'],k['matches_played_against']), reverse=False) \n",
    "    sorted_hero_matchups = sorted(h['hero_matchup'], key=lambda k: -1 if (k['win_rate']==None) else k['matches_played_against'], reverse=True)\n",
    "    sorted_hero_matchups = sorted(sorted_hero_matchups, key=lambda k: 2 if (k['win_rate']==None) else k['win_rate'], reverse=False)\n",
    "    temp_wr = sorted_hero_matchups[0]['win_rate']\n",
    "    i = 0\n",
    "    while i < max_top or sorted_hero_matchups[i]['win_rate'] == temp_wr:\n",
    "        temp_wr = sorted_hero_matchups[i]['win_rate']\n",
    "        add_hero = {'id': sorted_hero_matchups[i]['id'],\n",
    "                    'matches_played_against': sorted_hero_matchups[i]['matches_played_against'],\n",
    "                    'matches_won_against': sorted_hero_matchups[i]['matches_won_against'],\n",
    "                    'name': sorted_hero_matchups[i]['name'],\n",
    "                    'win_rate': sorted_hero_matchups[i]['win_rate']}\n",
    "        top_heroes.append(add_hero)\n",
    "        print(add_hero)\n",
    "        i = i + 1\n",
    "    return top_heroes"
   ]
  }
 ],
 "metadata": {
  "kernelspec": {
   "display_name": "Python 2",
   "language": "python",
   "name": "python2"
  },
  "language_info": {
   "codemirror_mode": {
    "name": "ipython",
    "version": 2.0
   },
   "file_extension": ".py",
   "mimetype": "text/x-python",
   "name": "python",
   "nbconvert_exporter": "python",
   "pygments_lexer": "ipython2",
   "version": "2.7.6"
  }
 },
 "nbformat": 4,
 "nbformat_minor": 0
}